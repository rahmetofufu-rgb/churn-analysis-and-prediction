{
 "cells": [
  {
   "cell_type": "code",
   "execution_count": 7,
   "id": "1c8cb097-1be6-4008-b44f-0bdf48f2fbbb",
   "metadata": {},
   "outputs": [
    {
     "name": "stdout",
     "output_type": "stream",
     "text": [
      "\n",
      "📈 Summary Statistics for Numerical Features:\n",
      "✅ All categorical columns encoded and preprocessed data saved successfully.\n"
     ]
    },
    {
     "name": "stderr",
     "output_type": "stream",
     "text": [
      "C:\\Users\\user\\AppData\\Local\\Temp\\ipykernel_15316\\3311493683.py:10: FutureWarning: A value is trying to be set on a copy of a DataFrame or Series through chained assignment using an inplace method.\n",
      "The behavior will change in pandas 3.0. This inplace method will never work because the intermediate object on which we are setting values always behaves as a copy.\n",
      "\n",
      "For example, when doing 'df[col].method(value, inplace=True)', try using 'df.method({col: value}, inplace=True)' or df[col] = df[col].method(value) instead, to perform the operation inplace on the original object.\n",
      "\n",
      "\n",
      "  df['TotalCharges'].fillna(df['TotalCharges'].median(), inplace=True)\n"
     ]
    }
   ],
   "source": [
    "import pandas as pd\n",
    "import numpy as np\n",
    "from sklearn.preprocessing import MinMaxScaler\n",
    "\n",
    "# Load data\n",
    "df = pd.read_csv(r\"C:\\Users\\user\\Desktop\\churn_prediction_project\\data\\Telco-Customer-Churn.csv\")\n",
    "\n",
    "# Clean TotalCharges\n",
    "df['TotalCharges'] = df['TotalCharges'].replace(\" \", np.nan).astype(float)\n",
    "df['TotalCharges'].fillna(df['TotalCharges'].median(), inplace=True)\n",
    "\n",
    "# Create AvgMonthlySpend\n",
    "df['AvgMonthlySpend'] = df['TotalCharges'] / (df['tenure'] + 1)\n",
    "\n",
    "# ------------------------------\n",
    "# 🧩 Outlier Capping + Summary Stats\n",
    "# ------------------------------\n",
    "num_col = df.select_dtypes(include=[\"float64\", \"int64\"]).columns\n",
    "\n",
    "# Exclude binary column(s)\n",
    "binary_cols = ['SeniorCitizen']  \n",
    "num_col = [col for col in num_col if col not in binary_cols]\n",
    "\n",
    "# Cap outliers using IQR method\n",
    "for col in num_col:\n",
    "    Q1 = df[col].quantile(0.25)\n",
    "    Q3 = df[col].quantile(0.75)\n",
    "    IQR = Q3 - Q1\n",
    "    lower = Q1 - 1.5 * IQR\n",
    "    upper = Q3 + 1.5 * IQR\n",
    "\n",
    "    df[col] = np.where(df[col] < lower, lower, df[col])\n",
    "    df[col] = np.where(df[col] > upper, upper, df[col])\n",
    "\n",
    "# Summary statistics\n",
    "summary_stats = pd.DataFrame({\n",
    "    'mean': df[num_col].mean(),\n",
    "    'median': df[num_col].median(),\n",
    "    'mode': df[num_col].mode().iloc[0],\n",
    "    'std': df[num_col].std()\n",
    "})\n",
    "print(\"\\n📈 Summary Statistics for Numerical Features:\")\n",
    "summary_stats.to_csv(r\"C:\\Users\\user\\Desktop\\churn_prediction_project/data/summary_statistics.csv\")\n",
    "\n",
    "# ------------------------------\n",
    "# Encode categorical features\n",
    "# ------------------------------\n",
    "df['Churn'] = df['Churn'].map({'Yes': 1, 'No': 0})\n",
    "\n",
    "categorical_cols = df.select_dtypes(include=['object']).columns.tolist()\n",
    "for col in ['customerID', 'Churn']:\n",
    "    if col in categorical_cols:\n",
    "        categorical_cols.remove(col)\n",
    "\n",
    "df_encoded = pd.get_dummies(df, columns=categorical_cols, drop_first=True)\n",
    "\n",
    "# ------------------------------\n",
    "# Normalize numeric features\n",
    "# ------------------------------\n",
    "scaler = MinMaxScaler()\n",
    "numeric_cols = ['tenure', 'MonthlyCharges', 'TotalCharges', 'AvgMonthlySpend']\n",
    "df_encoded[numeric_cols] = scaler.fit_transform(df_encoded[numeric_cols])\n",
    "\n",
    "# ------------------------------\n",
    "# Save preprocessed data\n",
    "# ------------------------------\n",
    "df_encoded.to_csv(r\"C:\\Users\\user\\Desktop\\churn_prediction_project\\data\\preprocessed_churn_data.csv\", index=False)\n",
    "\n",
    "print(\"✅ All categorical columns encoded and preprocessed data saved successfully.\")\n"
   ]
  },
  {
   "cell_type": "code",
   "execution_count": null,
   "id": "027ec39e-e6ae-46de-966c-bee8b96a31a5",
   "metadata": {},
   "outputs": [],
   "source": []
  }
 ],
 "metadata": {
  "kernelspec": {
   "display_name": "Python 3 (ipykernel)",
   "language": "python",
   "name": "python3"
  },
  "language_info": {
   "codemirror_mode": {
    "name": "ipython",
    "version": 3
   },
   "file_extension": ".py",
   "mimetype": "text/x-python",
   "name": "python",
   "nbconvert_exporter": "python",
   "pygments_lexer": "ipython3",
   "version": "3.12.10"
  }
 },
 "nbformat": 4,
 "nbformat_minor": 5
}
